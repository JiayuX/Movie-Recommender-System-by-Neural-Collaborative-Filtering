{
 "cells": [
  {
   "cell_type": "markdown",
   "metadata": {},
   "source": [
    "# Movie Recommender System"
   ]
  },
  {
   "cell_type": "markdown",
   "metadata": {},
   "source": [
    "In this project, we build a recommender system to recommend movies to the users. Specifically, the recommendations are based on the probability of a user interacting with a unwatched movie, i.e. the recommendations are chosen as the movies with the highest interacting probability. The task of the recommender system is to try to accurately predict this probability of any user i interacting with any unwatched movie j in the dataset.\n",
    "\n",
    "There are different types of recommender systems, i.e. content-based filtering, collaborative filtering and hybrid. Depending on the dataset, different types of systems may be more advantageous and preferred. The dataset used here is the Movielens dataset from Kaggle (https://www.kaggle.com/sherinclaudia/movielens).\n",
    "\n",
    "The dataset contains the genres that each movie belongs to, with which we are able to build a content-based model. A content-based model is more interpretable and usually less computationally complex making it more easily scaled to larger dataset. However, a downside of a content-based model is that it tends to always recommend items to a user that are similar to what this user has already interacted with before. This restricts the diversity of the recommendations. In contrast, a model using collaborative filtering also utilize the information from other users to make the recommendations so it can usually recommend items with higher diversity. Therefore, here we build a model using collaborative filtering to make diverse recommendations to the users!\n",
    "\n",
    "Collaborative filtering can also be done in various ways. We choose a neural-network-based model, which has been shown to outperform the matrix factorization approach because of the extra nonlinearity included in the neural network. The neural collaborative filtering was originally proposed in 2017 (https://doi.org/10.1145/3038912.3052569). We will preprocess the dataset to a form that can be fed to a neural collaborative model and then we build and train the model. Finally, we compare the performance of the model to a baseline model that makes recommendations purely based on popularity."
   ]
  },
  {
   "cell_type": "markdown",
   "metadata": {
    "id": "LsML57Id8g4J"
   },
   "source": [
    "## Data preparation & preprocessing"
   ]
  },
  {
   "cell_type": "markdown",
   "metadata": {},
   "source": [
    "### Import libraries"
   ]
  },
  {
   "cell_type": "code",
   "execution_count": 1,
   "metadata": {
    "executionInfo": {
     "elapsed": 270,
     "status": "ok",
     "timestamp": 1640667650046,
     "user": {
      "displayName": "Dennis X",
      "photoUrl": "https://lh3.googleusercontent.com/a/default-user=s64",
      "userId": "07673593424094128995"
     },
     "user_tz": 300
    },
    "id": "Mb-BmSXK0od4"
   },
   "outputs": [],
   "source": [
    "import math\n",
    "import pandas as pd\n",
    "import numpy as np\n",
    "import matplotlib.pyplot as plt\n",
    "import seaborn as sns\n",
    "from preprocessing import *"
   ]
  },
  {
   "cell_type": "markdown",
   "metadata": {},
   "source": [
    "### Load the data"
   ]
  },
  {
   "cell_type": "code",
   "execution_count": 2,
   "metadata": {},
   "outputs": [
    {
     "name": "stdout",
     "output_type": "stream",
     "text": [
      "   movie_id                          movie_name                      category\n",
      "0         2                      Jumanji (1995)  Adventure|Children's|Fantasy\n",
      "1         3             Grumpier Old Men (1995)                Comedy|Romance\n",
      "2         4            Waiting to Exhale (1995)                  Comedy|Drama\n",
      "3         5  Father of the Bride Part II (1995)                        Comedy\n",
      "4         6                         Heat (1995)         Action|Crime|Thriller\n",
      "(3882, 3)\n"
     ]
    }
   ],
   "source": [
    "movie_data = pd.read_csv('./data/movies.dat', sep = '::', engine='python')\n",
    "movie_data.columns = ['movie_id', 'movie_name', 'category']\n",
    "movie_data.dropna(inplace = True)\n",
    "print(movie_data.head())\n",
    "print(movie_data.shape)"
   ]
  },
  {
   "cell_type": "code",
   "execution_count": 3,
   "metadata": {},
   "outputs": [
    {
     "name": "stdout",
     "output_type": "stream",
     "text": [
      "   user_id  movie_id  rating  timestamp\n",
      "0        1       661       3  978302109\n",
      "1        1       914       3  978301968\n",
      "2        1      3408       4  978300275\n",
      "3        1      2355       5  978824291\n",
      "4        1      1197       3  978302268\n",
      "(1000208, 4)\n"
     ]
    }
   ],
   "source": [
    "rating_data = pd.read_csv(\"./data/ratings.dat\", sep = '::', engine='python')\n",
    "rating_data.columns = ['user_id','movie_id','rating','timestamp']\n",
    "rating_data.dropna(inplace = True)\n",
    "print(rating_data.head())\n",
    "print(rating_data.shape)"
   ]
  },
  {
   "cell_type": "code",
   "execution_count": 4,
   "metadata": {},
   "outputs": [],
   "source": [
    "# user_data = pd.read_csv(\"./data/users.dat\", sep = '::', engine = 'python')\n",
    "# user_data.columns = ['user_id','gender', 'age', 'occupation', 'zip_code']\n",
    "# user_data.dropna(inplace = True)\n",
    "# print(user_data.head())\n",
    "# print(user_data.shape)"
   ]
  },
  {
   "cell_type": "markdown",
   "metadata": {},
   "source": [
    "Instead of directly using the explicit feedback (the rating ranging from 1 to 5), we transfer it to implicit binary feedback (0 for no interaction and 1 for observed interaction). Also, there are usually more implicit feedback available in most websites. The data preprocessing is done by using the ```ImRecomDataPreprocessor``` class written in the preprocessing.py file."
   ]
  },
  {
   "cell_type": "code",
   "execution_count": 5,
   "metadata": {
    "scrolled": false
   },
   "outputs": [],
   "source": [
    "preprocessor = ImRecomDataPreprocessor()\n",
    "dataset, (num_users, num_items), (user2idx, item2idx) = preprocessor.fit(rating_data, 'user_id', 'movie_id', 'rating', 'timestamp')\n"
   ]
  },
  {
   "cell_type": "markdown",
   "metadata": {},
   "source": [
    "We take a look at how many positive samples (there is an interaction) and negative samples (there is no interaction) there are:"
   ]
  },
  {
   "cell_type": "code",
   "execution_count": 43,
   "metadata": {
    "scrolled": true
   },
   "outputs": [
    {
     "name": "stdout",
     "output_type": "stream",
     "text": [
      "There are 6040 users and 3706 movies resulting in 22384240 user-movie pairs.\n",
      "In the total 22384240 pairs, the numbers of negative (0) and positive (1) interactions are\n",
      "0    21384032\n",
      "1     1000208\n",
      "Name: rating, dtype: int64\n",
      "The interaction rate is  4.47%, which is quite sparse.\n"
     ]
    },
    {
     "data": {
      "text/html": [
       "<div>\n",
       "<style scoped>\n",
       "    .dataframe tbody tr th:only-of-type {\n",
       "        vertical-align: middle;\n",
       "    }\n",
       "\n",
       "    .dataframe tbody tr th {\n",
       "        vertical-align: top;\n",
       "    }\n",
       "\n",
       "    .dataframe thead th {\n",
       "        text-align: right;\n",
       "    }\n",
       "</style>\n",
       "<table border=\"1\" class=\"dataframe\">\n",
       "  <thead>\n",
       "    <tr style=\"text-align: right;\">\n",
       "      <th></th>\n",
       "      <th>user_id</th>\n",
       "      <th>movie_id</th>\n",
       "      <th>rating</th>\n",
       "      <th>timestamp</th>\n",
       "    </tr>\n",
       "  </thead>\n",
       "  <tbody>\n",
       "    <tr>\n",
       "      <th>0</th>\n",
       "      <td>0</td>\n",
       "      <td>0</td>\n",
       "      <td>1</td>\n",
       "      <td>978302109.0</td>\n",
       "    </tr>\n",
       "    <tr>\n",
       "      <th>1</th>\n",
       "      <td>1</td>\n",
       "      <td>0</td>\n",
       "      <td>1</td>\n",
       "      <td>978460739.0</td>\n",
       "    </tr>\n",
       "    <tr>\n",
       "      <th>2</th>\n",
       "      <td>2</td>\n",
       "      <td>0</td>\n",
       "      <td>1</td>\n",
       "      <td>977972750.0</td>\n",
       "    </tr>\n",
       "    <tr>\n",
       "      <th>3</th>\n",
       "      <td>3</td>\n",
       "      <td>0</td>\n",
       "      <td>1</td>\n",
       "      <td>977979726.0</td>\n",
       "    </tr>\n",
       "    <tr>\n",
       "      <th>4</th>\n",
       "      <td>4</td>\n",
       "      <td>0</td>\n",
       "      <td>1</td>\n",
       "      <td>977935511.0</td>\n",
       "    </tr>\n",
       "  </tbody>\n",
       "</table>\n",
       "</div>"
      ],
      "text/plain": [
       "   user_id movie_id  rating    timestamp\n",
       "0        0        0       1  978302109.0\n",
       "1        1        0       1  978460739.0\n",
       "2        2        0       1  977972750.0\n",
       "3        3        0       1  977979726.0\n",
       "4        4        0       1  977935511.0"
      ]
     },
     "execution_count": 43,
     "metadata": {},
     "output_type": "execute_result"
    }
   ],
   "source": [
    "print(f'There are {num_users} users and {num_items} movies resulting in {num_users * num_items} user-movie pairs.')\n",
    "print(f'In the total {len(dataset)} pairs, the numbers of negative (0) and positive (1) interactions are')\n",
    "print(dataset['rating'].value_counts())\n",
    "inter_rate = 100 * len(dataset[dataset['rating'] == 1]) / (num_users * num_items)\n",
    "print(f'The interaction rate is {inter_rate: .2f}%, which is quite sparse.')\n",
    "dataset.head()"
   ]
  },
  {
   "cell_type": "code",
   "execution_count": 44,
   "metadata": {},
   "outputs": [
    {
     "data": {
      "text/plain": [
       "<matplotlib.image.AxesImage at 0x7f8c68f1eda0>"
      ]
     },
     "execution_count": 44,
     "metadata": {},
     "output_type": "execute_result"
    },
    {
     "data": {
      "image/png": "[encoded data removed]",
      "text/plain": [
       "<Figure size 1152x706.84 with 1 Axes>"
      ]
     },
     "metadata": {
      "needs_background": "light"
     },
     "output_type": "display_data"
    }
   ],
   "source": [
    "fig, ax = plt.subplots(figsize=(16, 16* num_items / num_users))\n",
    "ax.matshow(pd.crosstab(dataset['user_id'], dataset['movie_id'], dataset['rating'], aggfunc = np.sum).to_numpy())"
   ]
  },
  {
   "cell_type": "markdown",
   "metadata": {},
   "source": [
    "As could be seen in the above summary of the data as well as the image representation of the user-movie interaction matrix, the positive samples are quite sparse, which is expected for the most websites. There are so many items so majority of the users probably only have interacted with a tiny portion of the items, and vice versa."
   ]
  },
  {
   "cell_type": "code",
   "execution_count": 8,
   "metadata": {},
   "outputs": [],
   "source": [
    "# print(user2idx)\n",
    "# print(item2idx)"
   ]
  },
  {
   "cell_type": "markdown",
   "metadata": {},
   "source": [
    "Let's prepare the training and validation data to train the model."
   ]
  },
  {
   "cell_type": "code",
   "execution_count": 9,
   "metadata": {
    "scrolled": true
   },
   "outputs": [
    {
     "name": "stdout",
     "output_type": "stream",
     "text": [
      "We have 21384032 negative training data.\n",
      "\n",
      "Before leaving one out, we have 1000208 positive training data.\n",
      "\n",
      "The least and most interaction of a user among all users: 20, 2314 \n",
      "\n"
     ]
    },
    {
     "name": "stderr",
     "output_type": "stream",
     "text": [
      "/Users/xiejiayu/Documents/ML Projects/Movie Recommender System/preprocessing.py:132: SettingWithCopyWarning: \n",
      "A value is trying to be set on a copy of a slice from a DataFrame.\n",
      "Try using .loc[row_indexer,col_indexer] = value instead\n",
      "\n",
      "See the caveats in the documentation: https://pandas.pydata.org/pandas-docs/stable/user_guide/indexing.html#returning-a-view-versus-a-copy\n",
      "  df['group_rank'] = df.groupby([self.user_col])[self.time_col].rank(method = 'first', ascending = False)\n"
     ]
    },
    {
     "name": "stdout",
     "output_type": "stream",
     "text": [
      "~~~~~~~~~~~~~~~~~~~~~~~~~~~~~~~~~~~~~~~~~~~~~~~~~~~~~~~~~~~~~~~~~~~~~~~~~~~~~~~~~~~~~~~~~~~~~~~~~~~~\n",
      "After leaving one out, we have 994168 positive training data and 6040 test data.\n",
      "\n",
      "~~~~~~~~~~~~~~~~~~~~~~~~~~~~~~~~~~~~~~~~~~~~~~~~~~~~~~~~~~~~~~~~~~~~~~~~~~~~~~~~~~~~~~~~~~~~~~~~~~~~\n",
      "Before negative sampling, we have 994168 positive training data and 6040 positive test data.\n",
      "\n",
      "We should sample 4000832 negative training data and 604000 negative test data.\n",
      "\n",
      "We actually sampled 3737105 negitive training data and 604000 negative test data.\n",
      "\n",
      "After negative sampling, we have 4731273 training data and 610040 test data.\n",
      "\n"
     ]
    }
   ],
   "source": [
    "(train_X, train_y), (val_X, val_y) = preprocessor.create_dataset(4, 100)"
   ]
  },
  {
   "cell_type": "code",
   "execution_count": 10,
   "metadata": {
    "scrolled": true
   },
   "outputs": [
    {
     "name": "stdout",
     "output_type": "stream",
     "text": [
      "4731273 4731273 610040 610040\n"
     ]
    }
   ],
   "source": [
    "print(len(train_X), len(train_y), len(val_X), len(val_y))\n",
    "num_train = len(train_X)\n",
    "num_val = len(val_X)"
   ]
  },
  {
   "cell_type": "code",
   "execution_count": 11,
   "metadata": {
    "scrolled": true
   },
   "outputs": [],
   "source": [
    "train_dataset = ImRecomDatasetTrain(train_X, train_y)\n",
    "\n",
    "val_dataset = ImRecomDatasetTest(val_X, val_y, 'user_id', 'movie_id', 'rating')"
   ]
  },
  {
   "cell_type": "markdown",
   "metadata": {},
   "source": [
    "## Build the model"
   ]
  },
  {
   "cell_type": "markdown",
   "metadata": {},
   "source": [
    "Here we build a neural collaborative filtering model composed of a generalized matrix factorization part (linear) and a multilayer perceptron part (nonlinear)."
   ]
  },
  {
   "cell_type": "markdown",
   "metadata": {},
   "source": [
    "### Import libraries"
   ]
  },
  {
   "cell_type": "code",
   "execution_count": 12,
   "metadata": {},
   "outputs": [],
   "source": [
    "import torch\n",
    "import torch.nn as nn\n",
    "from evaluation_metrics import *"
   ]
  },
  {
   "cell_type": "markdown",
   "metadata": {},
   "source": [
    "### Write the model class"
   ]
  },
  {
   "cell_type": "code",
   "execution_count": 13,
   "metadata": {},
   "outputs": [],
   "source": [
    "class Model(nn.Module):\n",
    "    def __init__(self, num_users, num_products, embedding_dim_mf = 16, embedding_dim_mlp = 16, hidden_config = [64, 32, 16]):\n",
    "        super().__init__()\n",
    "\n",
    "        # Matrix factorization (MF) embedding\n",
    "        self.embedding_user_mf = torch.nn.Embedding(num_embeddings = num_users, embedding_dim = embedding_dim_mf)\n",
    "        self.embedding_product_mf = torch.nn.Embedding(num_embeddings = num_products, embedding_dim = embedding_dim_mf)\n",
    "\n",
    "        # Multilayer perceptron (MLP) embedding\n",
    "        self.embedding_user_mlp = torch.nn.Embedding(num_embeddings = num_users, embedding_dim = embedding_dim_mlp)\n",
    "        self.embedding_product_mlp = torch.nn.Embedding(num_embeddings = num_products, embedding_dim = embedding_dim_mlp)\n",
    "\n",
    "        # Hidden layers of MLP\n",
    "        self.hiddens = torch.nn.ModuleList()\n",
    "        self.hiddens.append(torch.nn.Linear(2 * embedding_dim_mlp, hidden_config[0]))\n",
    "        for idx in range(len(hidden_config) - 1):\n",
    "            self.hiddens.append(torch.nn.Linear(hidden_config[idx], hidden_config[idx + 1]))\n",
    "\n",
    "        # Output head for rating\n",
    "        self.head = torch.nn.Linear(in_features = hidden_config[-1] + embedding_dim_mf, out_features = 1)\n",
    "        self.sigmoid = torch.nn.Sigmoid()\n",
    "        \n",
    "    def forward(self, user_indices, item_indices):\n",
    "        user_embeddings_mlp = self.embedding_user_mlp(user_indices)\n",
    "        product_embeddings_mlp = self.embedding_product_mlp(item_indices)\n",
    "        user_embeddings_mf = self.embedding_user_mf(user_indices)\n",
    "        product_embeddings_mf = self.embedding_product_mf(item_indices)\n",
    "\n",
    "        # MF part\n",
    "        mf_vector = torch.mul(user_embeddings_mf, product_embeddings_mf)\n",
    "        mf_vector = torch.nn.Dropout(0.2)(mf_vector)\n",
    "\n",
    "        # MLP part        \n",
    "        mlp_vector = torch.cat([user_embeddings_mlp, product_embeddings_mlp], dim = -1)  \n",
    "\n",
    "        for idx in range(len(self.hiddens)):\n",
    "            mlp_vector = self.hiddens[idx](mlp_vector)\n",
    "            mlp_vector = torch.nn.ReLU()(mlp_vector)\n",
    "        mlp_vector = torch.nn.Dropout(0.2)(mlp_vector)\n",
    "\n",
    "        vector = torch.cat([mlp_vector, mf_vector], dim = -1)\n",
    "        output = self.sigmoid(self.head(vector))\n",
    "        return output\n"
   ]
  },
  {
   "cell_type": "markdown",
   "metadata": {},
   "source": [
    "## Train the model"
   ]
  },
  {
   "cell_type": "markdown",
   "metadata": {},
   "source": [
    "### Write the training loop"
   ]
  },
  {
   "cell_type": "code",
   "execution_count": 14,
   "metadata": {
    "scrolled": true
   },
   "outputs": [],
   "source": [
    "################# BUILDING MODEL ###################\n",
    "import time\n",
    "\n",
    "def experiment(train_dataset, val_dataset, args):\n",
    "    model = Model(num_users, num_items, hidden_config = [32, 16, 8])\n",
    "\n",
    "    print(model)\n",
    "    \n",
    "    train_dataloader = torch.utils.data.DataLoader(train_dataset, batch_size = 256, shuffle = True)\n",
    "    val_dataloader = torch.utils.data.DataLoader(val_dataset, batch_size = 1, shuffle = False)\n",
    "    \n",
    "    if args.gpu:\n",
    "        # ****** Copy model to device ****** #\n",
    "        model.to(device)\n",
    "    \n",
    "    # ====== Loss function ====== #\n",
    "    lossfunction = nn.BCELoss(reduction = 'sum') \n",
    "\n",
    "    optimizer = torch.optim.Adam(model.parameters())\n",
    "\n",
    "    # ====== Data collection ====== #\n",
    "    list_epoch = [] \n",
    "    list_train_loss = []\n",
    "    list_val_loss = []\n",
    "    list_hr = []\n",
    "    list_ndcg = []\n",
    "    \n",
    "    best_hr = 0.0\n",
    "    best_ndcg = 0.0\n",
    "\n",
    "    # ====== Loop ====== #\n",
    "    for epoch in range(args.epoch):  \n",
    "        \n",
    "        t0 = time.time()\n",
    "        \n",
    "        # ====== Train ====== #\n",
    "        model.train() # Set the model be 'train mode' \n",
    "        train_loss = 0 # to sum up each batch\n",
    "\n",
    "        for batch_X, batch_y in train_dataloader:\n",
    "            optimizer.zero_grad()\n",
    "            \n",
    "            if args.gpu:\n",
    "                # ****** Transfer data to GPU ****** #\n",
    "                batch_X = batch_X.to(device)\n",
    "                batch_y = batch_y.to(device)\n",
    "\n",
    "            pred_y = model(batch_X[:, 0], batch_X[:, 1])\n",
    "\n",
    "            loss = lossfunction(pred_y.view(-1), batch_y)\n",
    "            \n",
    "            loss.backward()\n",
    "            \n",
    "            optimizer.step()\n",
    "            \n",
    "            train_loss += loss.item()\n",
    "                                                \n",
    "        train_loss = train_loss / num_train\n",
    "        list_train_loss.append(train_loss)\n",
    "        list_epoch.append(epoch)\n",
    "        \n",
    "        print(f'{time.time() - t0} seconds')\n",
    "\n",
    "        # ====== Validation ====== #\n",
    "        model.eval() # Set the model be 'evaluate mode' \n",
    "        hr = 0\n",
    "        ndcg = 0\n",
    "           \n",
    "        with torch.no_grad():\n",
    "            \n",
    "            for batch_X, batch_y in val_dataloader:\n",
    "                \n",
    "                batch_X, batch_y = batch_X[0], batch_y[0]\n",
    "\n",
    "                if args.gpu:\n",
    "                    # ****** Transfer data to GPU ****** #\n",
    "                    batch_X = batch_X.to(device)\n",
    "                    batch_y = batch_y.to(device)\n",
    "\n",
    "                pred_y = model(batch_X[:, 0], batch_X[:, 1])\n",
    "                \n",
    "                _, top_indices = torch.topk(pred_y.view(-1), args.top)\n",
    "\n",
    "                if args.gpu:\n",
    "                    true_item_idx = np.argmax(batch_y.cpu().numpy().tolist())\n",
    "                else:\n",
    "                    true_item_idx = np.argmax(batch_y.numpy().tolist())\n",
    "\n",
    "                hr += evaluate_hr(top_indices, true_item_idx)\n",
    "                ndcg += evaluate_ndcg(top_indices, true_item_idx, args.gpu)\n",
    "                \n",
    "        hr = hr / num_users\n",
    "        ndcg = ndcg / num_users\n",
    "        \n",
    "        list_hr.append(hr)\n",
    "        list_ndcg.append(ndcg)\n",
    "\n",
    "        if (hr > best_hr and ndcg > best_ndcg) or (hr == best_hr and ndcg > best_ndcg) or (hr > best_hr and ndcg == best_ndcg):\n",
    "            print(f\"Epoch {epoch}: Performence improved! HR: {best_hr: .4f} -> {hr: .4f}, NDCG: {best_ndcg: .4f} -> {ndcg: .4f}.\")\n",
    "            best_hr = hr\n",
    "            best_ndcg = ndcg\n",
    "            torch.save(model.state_dict(), './model/model_dict_best.pt')\n",
    "        else:\n",
    "            print(f\"Epoch {epoch}: Neither the best HR nor the best NDCG increased, or at least one of them decreased.\")\n",
    "        \n",
    "        print(f'Epoch: {epoch}, Train Loss: {train_loss: .4f}, HR: {hr: .4f}, NDCG: {ndcg: .4f}')\n",
    "        print('~' * 100)\n",
    "        \n",
    "    return list_epoch, list_train_loss, list_hr, list_ndcg\n"
   ]
  },
  {
   "cell_type": "markdown",
   "metadata": {},
   "source": [
    "### Train"
   ]
  },
  {
   "cell_type": "markdown",
   "metadata": {},
   "source": [
    "To evaluate the performance of the model, we choose to use hit ratio (HR) and normalized discounted cumulative gain (NDCG) as the metrics (https://doi.org/10.1145/2806416.2806504)."
   ]
  },
  {
   "cell_type": "code",
   "execution_count": 15,
   "metadata": {},
   "outputs": [],
   "source": [
    "import argparse\n",
    "import random"
   ]
  },
  {
   "cell_type": "code",
   "execution_count": 16,
   "metadata": {
    "scrolled": true
   },
   "outputs": [
    {
     "name": "stdout",
     "output_type": "stream",
     "text": [
      "Model(\n",
      "  (embedding_user_mf): Embedding(6040, 16)\n",
      "  (embedding_product_mf): Embedding(3706, 16)\n",
      "  (embedding_user_mlp): Embedding(6040, 16)\n",
      "  (embedding_product_mlp): Embedding(3706, 16)\n",
      "  (hiddens): ModuleList(\n",
      "    (0): Linear(in_features=32, out_features=32, bias=True)\n",
      "    (1): Linear(in_features=32, out_features=16, bias=True)\n",
      "    (2): Linear(in_features=16, out_features=8, bias=True)\n",
      "  )\n",
      "  (head): Linear(in_features=24, out_features=1, bias=True)\n",
      "  (sigmoid): Sigmoid()\n",
      ")\n",
      "1116.3378438949585 seconds\n",
      "Epoch 0: Performence improved! HR:  0.0000 ->  0.4884, NDCG:  0.0000 ->  0.2720.\n",
      "Epoch: 0, Train Loss:  0.3887, HR:  0.4884, NDCG:  0.2720\n",
      "~~~~~~~~~~~~~~~~~~~~~~~~~~~~~~~~~~~~~~~~~~~~~~~~~~~~~~~~~~~~~~~~~~~~~~~~~~~~~~~~~~~~~~~~~~~~~~~~~~~~\n",
      "1117.8445188999176 seconds\n",
      "Epoch 1: Performence improved! HR:  0.4884 ->  0.4992, NDCG:  0.2720 ->  0.2787.\n",
      "Epoch: 1, Train Loss:  0.3690, HR:  0.4992, NDCG:  0.2787\n",
      "~~~~~~~~~~~~~~~~~~~~~~~~~~~~~~~~~~~~~~~~~~~~~~~~~~~~~~~~~~~~~~~~~~~~~~~~~~~~~~~~~~~~~~~~~~~~~~~~~~~~\n",
      "1118.399230003357 seconds\n",
      "Epoch 2: Performence improved! HR:  0.4992 ->  0.5022, NDCG:  0.2787 ->  0.2797.\n",
      "Epoch: 2, Train Loss:  0.3659, HR:  0.5022, NDCG:  0.2797\n",
      "~~~~~~~~~~~~~~~~~~~~~~~~~~~~~~~~~~~~~~~~~~~~~~~~~~~~~~~~~~~~~~~~~~~~~~~~~~~~~~~~~~~~~~~~~~~~~~~~~~~~\n",
      "1149.3136599063873 seconds\n",
      "Epoch 3: Neither the best HR nor the best NDCG increased, or at least one of them decreased.\n",
      "Epoch: 3, Train Loss:  0.3640, HR:  0.4987, NDCG:  0.2789\n",
      "~~~~~~~~~~~~~~~~~~~~~~~~~~~~~~~~~~~~~~~~~~~~~~~~~~~~~~~~~~~~~~~~~~~~~~~~~~~~~~~~~~~~~~~~~~~~~~~~~~~~\n",
      "1113.0012028217316 seconds\n",
      "Epoch 4: Neither the best HR nor the best NDCG increased, or at least one of them decreased.\n",
      "Epoch: 4, Train Loss:  0.3595, HR:  0.4939, NDCG:  0.2761\n",
      "~~~~~~~~~~~~~~~~~~~~~~~~~~~~~~~~~~~~~~~~~~~~~~~~~~~~~~~~~~~~~~~~~~~~~~~~~~~~~~~~~~~~~~~~~~~~~~~~~~~~\n",
      "1116.7519042491913 seconds\n",
      "Epoch 5: Performence improved! HR:  0.5022 ->  0.5134, NDCG:  0.2797 ->  0.2860.\n",
      "Epoch: 5, Train Loss:  0.3471, HR:  0.5134, NDCG:  0.2860\n",
      "~~~~~~~~~~~~~~~~~~~~~~~~~~~~~~~~~~~~~~~~~~~~~~~~~~~~~~~~~~~~~~~~~~~~~~~~~~~~~~~~~~~~~~~~~~~~~~~~~~~~\n",
      "1118.0917439460754 seconds\n",
      "Epoch 6: Performence improved! HR:  0.5134 ->  0.5359, NDCG:  0.2860 ->  0.2989.\n",
      "Epoch: 6, Train Loss:  0.3309, HR:  0.5359, NDCG:  0.2989\n",
      "~~~~~~~~~~~~~~~~~~~~~~~~~~~~~~~~~~~~~~~~~~~~~~~~~~~~~~~~~~~~~~~~~~~~~~~~~~~~~~~~~~~~~~~~~~~~~~~~~~~~\n",
      "1118.462490081787 seconds\n",
      "Epoch 7: Performence improved! HR:  0.5359 ->  0.5618, NDCG:  0.2989 ->  0.3124.\n",
      "Epoch: 7, Train Loss:  0.3164, HR:  0.5618, NDCG:  0.3124\n",
      "~~~~~~~~~~~~~~~~~~~~~~~~~~~~~~~~~~~~~~~~~~~~~~~~~~~~~~~~~~~~~~~~~~~~~~~~~~~~~~~~~~~~~~~~~~~~~~~~~~~~\n",
      "1120.3108212947845 seconds\n",
      "Epoch 8: Performence improved! HR:  0.5618 ->  0.5780, NDCG:  0.3124 ->  0.3262.\n",
      "Epoch: 8, Train Loss:  0.3054, HR:  0.5780, NDCG:  0.3262\n",
      "~~~~~~~~~~~~~~~~~~~~~~~~~~~~~~~~~~~~~~~~~~~~~~~~~~~~~~~~~~~~~~~~~~~~~~~~~~~~~~~~~~~~~~~~~~~~~~~~~~~~\n",
      "1117.8614048957825 seconds\n",
      "Epoch 9: Performence improved! HR:  0.5780 ->  0.5886, NDCG:  0.3262 ->  0.3337.\n",
      "Epoch: 9, Train Loss:  0.2970, HR:  0.5886, NDCG:  0.3337\n",
      "~~~~~~~~~~~~~~~~~~~~~~~~~~~~~~~~~~~~~~~~~~~~~~~~~~~~~~~~~~~~~~~~~~~~~~~~~~~~~~~~~~~~~~~~~~~~~~~~~~~~\n",
      "1119.435967206955 seconds\n",
      "Epoch 10: Performence improved! HR:  0.5886 ->  0.6007, NDCG:  0.3337 ->  0.3413.\n",
      "Epoch: 10, Train Loss:  0.2905, HR:  0.6007, NDCG:  0.3413\n",
      "~~~~~~~~~~~~~~~~~~~~~~~~~~~~~~~~~~~~~~~~~~~~~~~~~~~~~~~~~~~~~~~~~~~~~~~~~~~~~~~~~~~~~~~~~~~~~~~~~~~~\n",
      "1119.6512279510498 seconds\n",
      "Epoch 11: Performence improved! HR:  0.6007 ->  0.6129, NDCG:  0.3413 ->  0.3498.\n",
      "Epoch: 11, Train Loss:  0.2856, HR:  0.6129, NDCG:  0.3498\n",
      "~~~~~~~~~~~~~~~~~~~~~~~~~~~~~~~~~~~~~~~~~~~~~~~~~~~~~~~~~~~~~~~~~~~~~~~~~~~~~~~~~~~~~~~~~~~~~~~~~~~~\n",
      "1119.021898984909 seconds\n",
      "Epoch 12: Performence improved! HR:  0.6129 ->  0.6157, NDCG:  0.3498 ->  0.3572.\n",
      "Epoch: 12, Train Loss:  0.2816, HR:  0.6157, NDCG:  0.3572\n",
      "~~~~~~~~~~~~~~~~~~~~~~~~~~~~~~~~~~~~~~~~~~~~~~~~~~~~~~~~~~~~~~~~~~~~~~~~~~~~~~~~~~~~~~~~~~~~~~~~~~~~\n",
      "1118.464187860489 seconds\n",
      "Epoch 13: Performence improved! HR:  0.6157 ->  0.6250, NDCG:  0.3572 ->  0.3607.\n",
      "Epoch: 13, Train Loss:  0.2785, HR:  0.6250, NDCG:  0.3607\n",
      "~~~~~~~~~~~~~~~~~~~~~~~~~~~~~~~~~~~~~~~~~~~~~~~~~~~~~~~~~~~~~~~~~~~~~~~~~~~~~~~~~~~~~~~~~~~~~~~~~~~~\n",
      "1118.7101809978485 seconds\n",
      "Epoch 14: Performence improved! HR:  0.6250 ->  0.6318, NDCG:  0.3607 ->  0.3646.\n",
      "Epoch: 14, Train Loss:  0.2758, HR:  0.6318, NDCG:  0.3646\n",
      "~~~~~~~~~~~~~~~~~~~~~~~~~~~~~~~~~~~~~~~~~~~~~~~~~~~~~~~~~~~~~~~~~~~~~~~~~~~~~~~~~~~~~~~~~~~~~~~~~~~~\n",
      "1118.0002708435059 seconds\n",
      "Epoch 15: Neither the best HR nor the best NDCG increased, or at least one of them decreased.\n",
      "Epoch: 15, Train Loss:  0.2733, HR:  0.6298, NDCG:  0.3650\n",
      "~~~~~~~~~~~~~~~~~~~~~~~~~~~~~~~~~~~~~~~~~~~~~~~~~~~~~~~~~~~~~~~~~~~~~~~~~~~~~~~~~~~~~~~~~~~~~~~~~~~~\n",
      "1119.4279191493988 seconds\n",
      "Epoch 16: Performence improved! HR:  0.6318 ->  0.6464, NDCG:  0.3646 ->  0.3740.\n",
      "Epoch: 16, Train Loss:  0.2715, HR:  0.6464, NDCG:  0.3740\n",
      "~~~~~~~~~~~~~~~~~~~~~~~~~~~~~~~~~~~~~~~~~~~~~~~~~~~~~~~~~~~~~~~~~~~~~~~~~~~~~~~~~~~~~~~~~~~~~~~~~~~~\n",
      "1117.031247138977 seconds\n",
      "Epoch 17: Neither the best HR nor the best NDCG increased, or at least one of them decreased.\n",
      "Epoch: 17, Train Loss:  0.2700, HR:  0.6459, NDCG:  0.3740\n",
      "~~~~~~~~~~~~~~~~~~~~~~~~~~~~~~~~~~~~~~~~~~~~~~~~~~~~~~~~~~~~~~~~~~~~~~~~~~~~~~~~~~~~~~~~~~~~~~~~~~~~\n",
      "1119.6571278572083 seconds\n",
      "Epoch 18: Performence improved! HR:  0.6464 ->  0.6500, NDCG:  0.3740 ->  0.3811.\n",
      "Epoch: 18, Train Loss:  0.2684, HR:  0.6500, NDCG:  0.3811\n",
      "~~~~~~~~~~~~~~~~~~~~~~~~~~~~~~~~~~~~~~~~~~~~~~~~~~~~~~~~~~~~~~~~~~~~~~~~~~~~~~~~~~~~~~~~~~~~~~~~~~~~\n",
      "1116.6698560714722 seconds\n",
      "Epoch 19: Neither the best HR nor the best NDCG increased, or at least one of them decreased.\n",
      "Epoch: 19, Train Loss:  0.2669, HR:  0.6470, NDCG:  0.3784\n",
      "~~~~~~~~~~~~~~~~~~~~~~~~~~~~~~~~~~~~~~~~~~~~~~~~~~~~~~~~~~~~~~~~~~~~~~~~~~~~~~~~~~~~~~~~~~~~~~~~~~~~\n",
      "1119.0310351848602 seconds\n",
      "Epoch 20: Performence improved! HR:  0.6500 ->  0.6510, NDCG:  0.3811 ->  0.3821.\n",
      "Epoch: 20, Train Loss:  0.2659, HR:  0.6510, NDCG:  0.3821\n",
      "~~~~~~~~~~~~~~~~~~~~~~~~~~~~~~~~~~~~~~~~~~~~~~~~~~~~~~~~~~~~~~~~~~~~~~~~~~~~~~~~~~~~~~~~~~~~~~~~~~~~\n",
      "1119.2304251194 seconds\n",
      "Epoch 21: Performence improved! HR:  0.6510 ->  0.6530, NDCG:  0.3821 ->  0.3838.\n",
      "Epoch: 21, Train Loss:  0.2649, HR:  0.6530, NDCG:  0.3838\n",
      "~~~~~~~~~~~~~~~~~~~~~~~~~~~~~~~~~~~~~~~~~~~~~~~~~~~~~~~~~~~~~~~~~~~~~~~~~~~~~~~~~~~~~~~~~~~~~~~~~~~~\n",
      "1117.4572579860687 seconds\n",
      "Epoch 22: Performence improved! HR:  0.6530 ->  0.6570, NDCG:  0.3838 ->  0.3846.\n",
      "Epoch: 22, Train Loss:  0.2641, HR:  0.6570, NDCG:  0.3846\n",
      "~~~~~~~~~~~~~~~~~~~~~~~~~~~~~~~~~~~~~~~~~~~~~~~~~~~~~~~~~~~~~~~~~~~~~~~~~~~~~~~~~~~~~~~~~~~~~~~~~~~~\n",
      "1119.8401169776917 seconds\n",
      "Epoch 23: Neither the best HR nor the best NDCG increased, or at least one of them decreased.\n",
      "Epoch: 23, Train Loss:  0.2632, HR:  0.6548, NDCG:  0.3832\n",
      "~~~~~~~~~~~~~~~~~~~~~~~~~~~~~~~~~~~~~~~~~~~~~~~~~~~~~~~~~~~~~~~~~~~~~~~~~~~~~~~~~~~~~~~~~~~~~~~~~~~~\n",
      "1121.4142398834229 seconds\n",
      "Epoch 24: Neither the best HR nor the best NDCG increased, or at least one of them decreased.\n",
      "Epoch: 24, Train Loss:  0.2625, HR:  0.6540, NDCG:  0.3850\n",
      "~~~~~~~~~~~~~~~~~~~~~~~~~~~~~~~~~~~~~~~~~~~~~~~~~~~~~~~~~~~~~~~~~~~~~~~~~~~~~~~~~~~~~~~~~~~~~~~~~~~~\n",
      "1129.2177641391754 seconds\n",
      "Epoch 25: Neither the best HR nor the best NDCG increased, or at least one of them decreased.\n",
      "Epoch: 25, Train Loss:  0.2616, HR:  0.6533, NDCG:  0.3831\n",
      "~~~~~~~~~~~~~~~~~~~~~~~~~~~~~~~~~~~~~~~~~~~~~~~~~~~~~~~~~~~~~~~~~~~~~~~~~~~~~~~~~~~~~~~~~~~~~~~~~~~~\n",
      "1115.7889568805695 seconds\n",
      "Epoch 26: Performence improved! HR:  0.6570 ->  0.6627, NDCG:  0.3846 ->  0.3910.\n",
      "Epoch: 26, Train Loss:  0.2610, HR:  0.6627, NDCG:  0.3910\n",
      "~~~~~~~~~~~~~~~~~~~~~~~~~~~~~~~~~~~~~~~~~~~~~~~~~~~~~~~~~~~~~~~~~~~~~~~~~~~~~~~~~~~~~~~~~~~~~~~~~~~~\n",
      "1119.7550039291382 seconds\n",
      "Epoch 27: Neither the best HR nor the best NDCG increased, or at least one of them decreased.\n",
      "Epoch: 27, Train Loss:  0.2604, HR:  0.6618, NDCG:  0.3887\n",
      "~~~~~~~~~~~~~~~~~~~~~~~~~~~~~~~~~~~~~~~~~~~~~~~~~~~~~~~~~~~~~~~~~~~~~~~~~~~~~~~~~~~~~~~~~~~~~~~~~~~~\n",
      "1117.9369509220123 seconds\n",
      "Epoch 28: Neither the best HR nor the best NDCG increased, or at least one of them decreased.\n",
      "Epoch: 28, Train Loss:  0.2600, HR:  0.6601, NDCG:  0.3889\n",
      "~~~~~~~~~~~~~~~~~~~~~~~~~~~~~~~~~~~~~~~~~~~~~~~~~~~~~~~~~~~~~~~~~~~~~~~~~~~~~~~~~~~~~~~~~~~~~~~~~~~~\n"
     ]
    },
    {
     "name": "stdout",
     "output_type": "stream",
     "text": [
      "1124.2263259887695 seconds\n",
      "Epoch 29: Neither the best HR nor the best NDCG increased, or at least one of them decreased.\n",
      "Epoch: 29, Train Loss:  0.2594, HR:  0.6598, NDCG:  0.3910\n",
      "~~~~~~~~~~~~~~~~~~~~~~~~~~~~~~~~~~~~~~~~~~~~~~~~~~~~~~~~~~~~~~~~~~~~~~~~~~~~~~~~~~~~~~~~~~~~~~~~~~~~\n"
     ]
    }
   ],
   "source": [
    "parser = argparse.ArgumentParser()\n",
    "\n",
    "args = parser.parse_args(\"\")\n",
    "\n",
    "args.gpu = False\n",
    "args.epoch = 30\n",
    "args.batch_size = 256\n",
    "args.top = 10\n",
    "\n",
    "list_epoch, list_train_loss, list_hr, list_ndcg = experiment(train_dataset, val_dataset, args)\n"
   ]
  },
  {
   "cell_type": "markdown",
   "metadata": {},
   "source": [
    "### Display the training history"
   ]
  },
  {
   "cell_type": "code",
   "execution_count": 17,
   "metadata": {},
   "outputs": [
    {
     "data": {
      "image/png": "[encoded data removed]",
      "text/plain": [
       "<Figure size 1050x350 with 2 Axes>"
      ]
     },
     "metadata": {
      "needs_background": "light"
     },
     "output_type": "display_data"
    }
   ],
   "source": [
    "fig = plt.figure(figsize = (15, 5), dpi = 70)\n",
    "\n",
    "# ====== Plot Loss ====== #\n",
    "ax1 = fig.add_subplot(1, 2, 1)\n",
    "ax1.plot(list_epoch, list_train_loss, label='train_loss')\n",
    "ax1.set_xlabel('epoch')\n",
    "ax1.set_ylabel('loss')\n",
    "ax1.grid()\n",
    "ax1.legend()\n",
    "ax1.set_title('epoch vs loss')\n",
    "\n",
    "# # ====== Plot Metric ====== #\n",
    "ax2 = fig.add_subplot(1, 2, 2)\n",
    "ax2.plot(list_epoch, list_hr, marker='x', label='HR')\n",
    "ax2.plot(list_epoch, list_ndcg, marker='x', label='NDCG')\n",
    "ax2.set_xlabel('epoch')\n",
    "ax2.set_ylabel('HR&NDCG ')\n",
    "ax2.grid()\n",
    "ax2.legend()\n",
    "ax2.set_title('epoch vs HR&NDCG')\n",
    "\n",
    "plt.show()"
   ]
  },
  {
   "cell_type": "markdown",
   "metadata": {},
   "source": [
    "We see that after 30 epochs training the loss for the training set decreased to ~ 0.26 and the NR $ NDCG pf the validation set increased to ~0.39 and ~0.66, respectively."
   ]
  },
  {
   "cell_type": "markdown",
   "metadata": {},
   "source": [
    "Load the model"
   ]
  },
  {
   "cell_type": "code",
   "execution_count": 18,
   "metadata": {},
   "outputs": [],
   "source": [
    "# model = Model(num_users, num_items, hidden_config = [32, 16, 8])\n",
    "# model.load_state_dict(torch.load('./model/model_dict_best.pt'))"
   ]
  },
  {
   "cell_type": "markdown",
   "metadata": {},
   "source": [
    "## Compare to a baseline model"
   ]
  },
  {
   "cell_type": "markdown",
   "metadata": {},
   "source": [
    "Let's compare the performance of the neural collaborative model with a baseline model. The baseline model makes recommendation purely based on the popularity of the items, i.e. the more popular a movie is the more probable it is regarded to be interacted by the users."
   ]
  },
  {
   "cell_type": "code",
   "execution_count": 2,
   "metadata": {},
   "outputs": [],
   "source": [
    "import seaborn as sns"
   ]
  },
  {
   "cell_type": "code",
   "execution_count": 20,
   "metadata": {},
   "outputs": [],
   "source": [
    "movie2posnum = dataset[dataset['rating'] == 1].groupby('movie_id')['rating'].count().reset_index()\n",
    "movie2posnum = movie2posnum.rename(columns = {'rating': 'count'})"
   ]
  },
  {
   "cell_type": "code",
   "execution_count": 23,
   "metadata": {},
   "outputs": [
    {
     "name": "stdout",
     "output_type": "stream",
     "text": [
      "6040\n"
     ]
    }
   ],
   "source": [
    "user_groups = list(pd.merge(pd.concat([val_X, val_y], axis = 1), movie2posnum, on = 'movie_id').groupby('user_id'))\n",
    "print(len(user_groups))"
   ]
  },
  {
   "cell_type": "code",
   "execution_count": 24,
   "metadata": {},
   "outputs": [],
   "source": [
    "hr_base = 0\n",
    "ndcg_base = 0\n",
    "top = 10\n",
    "\n",
    "for item in user_groups:\n",
    "    \n",
    "    temp_df = item[1].sort_values(by = ['count'], ascending = False).reset_index(drop = True)\n",
    "    \n",
    "    top_list = temp_df['rating'].tolist()[:top]\n",
    "    \n",
    "    if 1 in top_list:\n",
    "\n",
    "        hr_base += 1.\n",
    "\n",
    "        ndcg_base += 1. / np.log2(top_list.index(1) + 2.)\n",
    "\n",
    "    else:\n",
    "        pass\n",
    "\n",
    "hr_base /= num_users\n",
    "ndcg_base /= num_users"
   ]
  },
  {
   "cell_type": "code",
   "execution_count": 8,
   "metadata": {},
   "outputs": [
    {
     "name": "stdout",
     "output_type": "stream",
     "text": [
      "0.5125827814569537 0.29481712465112364\n"
     ]
    }
   ],
   "source": [
    "print(hr_base, ndcg_base)"
   ]
  },
  {
   "cell_type": "code",
   "execution_count": 9,
   "metadata": {},
   "outputs": [
    {
     "data": {
      "image/png": "[encoded data removed]",
      "text/plain": [
       "<Figure size 480x320 with 1 Axes>"
      ]
     },
     "metadata": {
      "needs_background": "light"
     },
     "output_type": "display_data"
    }
   ],
   "source": [
    "results = pd.DataFrame({'groups': ['base', 'base', 'nn', 'nn'], 'metrics': ['HR', 'NDCG', 'HR', 'NDCG'], 'values': [hr_base, ndcg_base, 0.6627, 0.3910]})\n",
    "\n",
    "plt.figure(dpi = 80)\n",
    "sns.barplot(data = results, x = 'metrics', y = 'values', hue = 'groups')\n",
    "plt.title('Performance Comparison')\n",
    "plt.show()"
   ]
  },
  {
   "cell_type": "markdown",
   "metadata": {},
   "source": [
    "In the bar plot, it is clear that the neural collaborative filtering model outperforms the baseline model 29.29% in HR and 32.62% in NDCG!"
   ]
  },
  {
   "cell_type": "markdown",
   "metadata": {},
   "source": [
    "Due to the limited computational resources, we stopped the training at the 30th epoch and didn't tune the hyper-parameters. Although at around the 30th epoch the training curve and metric curves tend to saturate, there has not been a clear sign of overfitting yet. Therefore, training for more epochs may give a better result. Also, if hyper-parameters tuning is performed, the result may be further improved."
   ]
  },
  {
   "cell_type": "code",
   "execution_count": null,
   "metadata": {},
   "outputs": [],
   "source": []
  }
 ],
 "metadata": {
  "colab": {
   "authorship_tag": "ABX9TyMsr5cT4nGEybYESEmFAYWl",
   "collapsed_sections": [],
   "name": "BBox Regression.ipynb",
   "provenance": []
  },
  "kernelspec": {
   "display_name": "Python 3",
   "language": "python",
   "name": "python3"
  },
  "language_info": {
   "codemirror_mode": {
    "name": "ipython",
    "version": 3
   },
   "file_extension": ".py",
   "mimetype": "text/x-python",
   "name": "python",
   "nbconvert_exporter": "python",
   "pygments_lexer": "ipython3",
   "version": "3.7.2"
  }
 },
 "nbformat": 4,
 "nbformat_minor": 1
}
